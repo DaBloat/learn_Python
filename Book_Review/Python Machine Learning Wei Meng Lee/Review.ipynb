{
 "cells": [
  {
   "cell_type": "markdown",
   "id": "1202801d-3363-4b26-ab1e-db695fd975ca",
   "metadata": {},
   "source": [
    "# Python Machine Learning\n",
    "- Created by DaBloat\n",
    "- Based in my learnings in \"Python Machine Learning\" by Wei-Meng Lee\n",
    "\n",
    "## Chapter 1: Problem types solved by ML\n",
    "\n",
    "### Classification\n",
    "- \"IDENTIFYING\"\n",
    "\n",
    "### Regression\n",
    "- \"FORECASTING\"\n",
    "\n",
    "### Clustering\n",
    "- \"Grouping into natural clumps\"\n",
    "\n",
    "## Types of ML Algorithms\n",
    "### Supervised Learning\n",
    "- using Labeled dataset\n",
    "\n",
    "### Unsupervised Learning\n",
    "- using unlabeled dataset"
   ]
  },
  {
   "cell_type": "markdown",
   "id": "4c5f05bb-0fd0-480a-90e8-dd1469054d7c",
   "metadata": {},
   "source": [
    "## Chapter 2: Numpy Array\n",
    "- Python List is computationally expensive\n",
    "- arrays are type of ndarrays  (n-dimeansional array) that all elements are same\n",
    "### Numpy Use"
   ]
  },
  {
   "cell_type": "code",
   "execution_count": 2,
   "id": "bdc23b4d-e500-4139-a2b4-a88b5c006e97",
   "metadata": {},
   "outputs": [],
   "source": [
    "# setting the alias np to numpy seems to be a custom!\n",
    "import numpy as np"
   ]
  },
  {
   "cell_type": "code",
   "execution_count": 3,
   "id": "955037c1-efa6-49a3-a8d3-122f097445ac",
   "metadata": {},
   "outputs": [
    {
     "name": "stdout",
     "output_type": "stream",
     "text": [
      "[0 1 2 3 4]\n"
     ]
    }
   ],
   "source": [
    "# creating numpy arrays naturaly\n",
    "sample = np.arange(5) # Creates array from 0 - 4\n",
    "print(sample)"
   ]
  },
  {
   "cell_type": "code",
   "execution_count": 4,
   "id": "72d20f7e-e5d5-426d-970e-2211a78e00ae",
   "metadata": {},
   "outputs": [
    {
     "name": "stdout",
     "output_type": "stream",
     "text": [
      "(5,)\n"
     ]
    }
   ],
   "source": [
    "print(sample.shape) # works like as len() for matrices, originaly returns a tuple"
   ]
  },
  {
   "cell_type": "code",
   "execution_count": 5,
   "id": "cbed890f-fc52-4cd9-952f-7428fdf02adc",
   "metadata": {},
   "outputs": [
    {
     "name": "stdout",
     "output_type": "stream",
     "text": [
      "[1 3 5 7 9]\n"
     ]
    }
   ],
   "source": [
    "skips = np.arange(1, 10, 2) # (starting element, # of elements, Skips)\n",
    "print(skips)"
   ]
  },
  {
   "cell_type": "code",
   "execution_count": 6,
   "id": "927085bd-663f-464c-930a-06890dc02af9",
   "metadata": {},
   "outputs": [
    {
     "name": "stdout",
     "output_type": "stream",
     "text": [
      "[0. 0. 0. 0. 0.]\n"
     ]
    }
   ],
   "source": [
    "zero = np.zeros(5) # Creates a zero array\n",
    "print(zero)"
   ]
  },
  {
   "cell_type": "code",
   "execution_count": 7,
   "id": "653038b1-af42-46fb-86ea-cb51cddddec0",
   "metadata": {},
   "outputs": [
    {
     "name": "stdout",
     "output_type": "stream",
     "text": [
      "[[0. 0. 0.]\n",
      " [0. 0. 0.]\n",
      " [0. 0. 0.]\n",
      " [0. 0. 0.]\n",
      " [0. 0. 0.]]\n"
     ]
    }
   ],
   "source": [
    "matrix = np.zeros((5,3)) # for matrices size (or shape in this matter), it accepts tuples (row,col) \n",
    "print(matrix)"
   ]
  },
  {
   "cell_type": "code",
   "execution_count": 8,
   "id": "29f872ec-2524-4d00-b584-b37706533112",
   "metadata": {},
   "outputs": [
    {
     "name": "stdout",
     "output_type": "stream",
     "text": [
      "(5, 3)\n"
     ]
    }
   ],
   "source": [
    "print(matrix.shape) # also shown in the shape (row,col)"
   ]
  },
  {
   "cell_type": "code",
   "execution_count": 9,
   "id": "c440cef2-d377-4171-8c33-d5cd2bb1409f",
   "metadata": {},
   "outputs": [
    {
     "name": "stdout",
     "output_type": "stream",
     "text": [
      "[[1 1 1 1 1]\n",
      " [1 1 1 1 1]\n",
      " [1 1 1 1 1]]\n"
     ]
    }
   ],
   "source": [
    "repeat = np.full((3,5),1) # (Matrix sizze in tuple, integer to be repeated)\n",
    "print(repeat)"
   ]
  },
  {
   "cell_type": "code",
   "execution_count": 10,
   "id": "ee6e181b-0209-4153-8d44-b6a01f416c21",
   "metadata": {},
   "outputs": [
    {
     "name": "stdout",
     "output_type": "stream",
     "text": [
      "[[1. 0. 0. 0. 0.]\n",
      " [0. 1. 0. 0. 0.]\n",
      " [0. 0. 1. 0. 0.]\n",
      " [0. 0. 0. 1. 0.]\n",
      " [0. 0. 0. 0. 1.]]\n"
     ]
    }
   ],
   "source": [
    "identity = np.eye(5) # Creates an Identity Matrix, (size of the identity matrix)\n",
    "print(identity)"
   ]
  },
  {
   "cell_type": "code",
   "execution_count": 11,
   "id": "75a71029-ec0f-4b58-b0f3-beb6b6a8ef78",
   "metadata": {},
   "outputs": [
    {
     "name": "stdout",
     "output_type": "stream",
     "text": [
      "[[0.31260265 0.15374039 0.51515758 0.65419097]\n",
      " [0.44374793 0.66256886 0.63498548 0.95660441]\n",
      " [0.27151956 0.67064542 0.72484002 0.36262636]\n",
      " [0.67984607 0.16249886 0.56771594 0.23385191]]\n"
     ]
    }
   ],
   "source": [
    "randm = np.random.random((4,4)) # random module (size in tuple)\n",
    "print(randm)"
   ]
  },
  {
   "cell_type": "code",
   "execution_count": 12,
   "id": "db561f33-4c2a-4d75-b76b-c134b6a76307",
   "metadata": {},
   "outputs": [
    {
     "name": "stdout",
     "output_type": "stream",
     "text": [
      "[1 2 3 4 5]\n"
     ]
    }
   ],
   "source": [
    "listings = [1,2,3,4,5] # Or you can use list to feed as an array\n",
    "lits = np.array(listings)\n",
    "print(lits)"
   ]
  },
  {
   "cell_type": "markdown",
   "id": "ca5188f6-9fa4-45f1-8515-64da43d1bec1",
   "metadata": {},
   "source": [
    "### Numpy Indexing"
   ]
  },
  {
   "cell_type": "code",
   "execution_count": 13,
   "id": "09055d00-8ecb-48b1-abac-56b00fc04253",
   "metadata": {},
   "outputs": [
    {
     "name": "stdout",
     "output_type": "stream",
     "text": [
      "[[1 2 3 4 5]\n",
      " [6 7 8 9 0]]\n"
     ]
    }
   ],
   "source": [
    "# you can do a variety of ways to do indexing in numpy arrays!\n",
    "l1 = [1,2,3,4,5]\n",
    "l2 = [6,7,8,9,0]\n",
    "number = np.array([l1,l2]) # you can do this in creating matrices\n",
    "\n",
    "print(number)"
   ]
  },
  {
   "cell_type": "code",
   "execution_count": 14,
   "id": "8457fac2-d926-482d-9d80-53d60c2169e2",
   "metadata": {},
   "outputs": [
    {
     "name": "stdout",
     "output_type": "stream",
     "text": [
      "1\n"
     ]
    }
   ],
   "source": [
    "# you can use classic indexing\n",
    "print(number[0][0]) # The first row and first column element"
   ]
  },
  {
   "cell_type": "code",
   "execution_count": 15,
   "id": "f1178e7d-77d9-41f4-9c25-835dcdb372d5",
   "metadata": {},
   "outputs": [
    {
     "name": "stdout",
     "output_type": "stream",
     "text": [
      "0\n"
     ]
    }
   ],
   "source": [
    "# or just throw the row x col position seperated by as comma\n",
    "print(number[1,4]) # The last value in the matrix"
   ]
  },
  {
   "cell_type": "code",
   "execution_count": 16,
   "id": "6d496ae7-51ee-4e21-a30d-39db694d41b4",
   "metadata": {},
   "outputs": [
    {
     "name": "stdout",
     "output_type": "stream",
     "text": [
      "[3 5]\n"
     ]
    }
   ],
   "source": [
    "# you can also throw a list for indexing\n",
    "print(number[[0],[2,4]]) # (row, selected column index in the list)"
   ]
  },
  {
   "cell_type": "code",
   "execution_count": 17,
   "id": "07e69593-0f62-4087-872d-7d3eb32d11d6",
   "metadata": {},
   "outputs": [
    {
     "name": "stdout",
     "output_type": "stream",
     "text": [
      "[2 5]\n"
     ]
    }
   ],
   "source": [
    "# another exmaple\n",
    "s = np.array(l1) \n",
    "print(s[[1,4]]) # returns a list of the index"
   ]
  },
  {
   "cell_type": "code",
   "execution_count": 18,
   "id": "0abeae32-d326-4bfa-9996-8016f1c986d6",
   "metadata": {},
   "outputs": [
    {
     "name": "stdout",
     "output_type": "stream",
     "text": [
      "[[False False  True  True  True]\n",
      " [ True  True  True  True False]]\n"
     ]
    }
   ],
   "source": [
    "# You can also do \"Boolean Indexing\"\n",
    "print(number>2) # Returns true when the element is greater than 2"
   ]
  },
  {
   "cell_type": "code",
   "execution_count": 19,
   "id": "bd413ab8-4e0b-4a54-a37e-d620d68baa0a",
   "metadata": {},
   "outputs": [
    {
     "name": "stdout",
     "output_type": "stream",
     "text": [
      "[3 4 5 6 7 8 9]\n"
     ]
    }
   ],
   "source": [
    "# This is good for extaracting values/data/elements that returns true in your condition\n",
    "print(number[number>2]) # This returns the values that are less than 2"
   ]
  },
  {
   "cell_type": "code",
   "execution_count": 20,
   "id": "da3812a0-edb4-42cf-b521-6b27e00c8685",
   "metadata": {},
   "outputs": [
    {
     "name": "stdout",
     "output_type": "stream",
     "text": [
      "[1 3 5 7 9]\n"
     ]
    }
   ],
   "source": [
    "odd = number[number % 2 == 1] # return odd integer values\n",
    "print(odd)"
   ]
  },
  {
   "cell_type": "markdown",
   "id": "7e10176d-a9fa-4b9b-82bf-9a06c57b9ce0",
   "metadata": {},
   "source": [
    "### Numpy Array Slicing"
   ]
  },
  {
   "cell_type": "code",
   "execution_count": 21,
   "id": "2b12abf4-8c70-4c01-a3cb-b6c334d37ba3",
   "metadata": {},
   "outputs": [
    {
     "data": {
      "text/plain": [
       "'I Love you'"
      ]
     },
     "execution_count": 21,
     "metadata": {},
     "output_type": "execute_result"
    }
   ],
   "source": [
    "# same concept in string slicing\n",
    "yna = \"I Love your smile\"\n",
    "yna[0:10] # [start:stop]  index"
   ]
  },
  {
   "cell_type": "code",
   "execution_count": 22,
   "id": "24c1a2a5-ebfc-42a7-b4a8-7c28668722df",
   "metadata": {},
   "outputs": [
    {
     "data": {
      "text/plain": [
       "'I Love you'"
      ]
     },
     "execution_count": 22,
     "metadata": {},
     "output_type": "execute_result"
    }
   ],
   "source": [
    "# or using negative index\n",
    "yna[:-7]"
   ]
  },
  {
   "cell_type": "code",
   "execution_count": 23,
   "id": "c1d99e5d-2b2d-4ce9-a68f-06c0b203e1b7",
   "metadata": {},
   "outputs": [
    {
     "data": {
      "text/plain": [
       "'smile'"
      ]
     },
     "execution_count": 23,
     "metadata": {},
     "output_type": "execute_result"
    }
   ],
   "source": [
    "yna[-5:] # you get the point\n",
    "# just the concept of [start:stop]"
   ]
  },
  {
   "cell_type": "code",
   "execution_count": 24,
   "id": "b68e6caf-950c-436a-a3f3-05e9ef5c1a4d",
   "metadata": {},
   "outputs": [
    {
     "name": "stdout",
     "output_type": "stream",
     "text": [
      "[[ 1  2  3  4  5]\n",
      " [ 6  7  8  9 10]\n",
      " [11 12 13 14 15]]\n",
      "(3, 5)\n"
     ]
    }
   ],
   "source": [
    "# using numpy\n",
    "number3 = np.array(\n",
    "    [\n",
    "        [1,2,3,4,5],\n",
    "        [6,7,8,9,10],\n",
    "        [11,12,13,14,15]\n",
    "    ]\n",
    ")\n",
    "print(number3) # 3x5 matrix\n",
    "print(number3.shape) # confirmed by this attrib."
   ]
  },
  {
   "cell_type": "code",
   "execution_count": 25,
   "id": "cd7f4546-080b-406f-9a6e-bfaac5e79149",
   "metadata": {},
   "outputs": [
    {
     "name": "stdout",
     "output_type": "stream",
     "text": [
      "[[ 6  7  8  9 10]\n",
      " [11 12 13 14 15]]\n"
     ]
    }
   ],
   "source": [
    "print(number3[1:3])\n",
    "# starts @ index 1 and stops @ index 3 (which it will not include the index 3)\n",
    "# additionaly its the same as number3[1:]"
   ]
  },
  {
   "cell_type": "code",
   "execution_count": 26,
   "id": "9ad660ab-28ef-4dd1-b53e-38e30631193c",
   "metadata": {},
   "outputs": [
    {
     "name": "stdout",
     "output_type": "stream",
     "text": [
      "[[ 6  7  8]\n",
      " [11 12 13]]\n"
     ]
    }
   ],
   "source": [
    "print(number3[1: , :3])\n",
    "# this time each row is sliced again by column according to\n",
    "# start:stop"
   ]
  },
  {
   "cell_type": "code",
   "execution_count": 27,
   "id": "42a84ef2-d799-45a5-acbf-ef01601f6824",
   "metadata": {},
   "outputs": [
    {
     "name": "stdout",
     "output_type": "stream",
     "text": [
      "[[ 6  7  8]\n",
      " [11 12 13]]\n"
     ]
    }
   ],
   "source": [
    "# using negative index\n",
    "print(number3[-2:, :-2])"
   ]
  },
  {
   "cell_type": "code",
   "execution_count": 28,
   "id": "cf740de0-db6b-4adf-af76-5b4e1a654c15",
   "metadata": {},
   "outputs": [
    {
     "name": "stdout",
     "output_type": "stream",
     "text": [
      "(1, 5)\n"
     ]
    }
   ],
   "source": [
    "print(number3[2:,:].shape) # gets the shape of the 2nd Row (should be 1,5)"
   ]
  },
  {
   "cell_type": "markdown",
   "id": "aa0c900d-0c2e-4686-b30f-e12381a33819",
   "metadata": {},
   "source": [
    "### Array Reshaping"
   ]
  },
  {
   "cell_type": "code",
   "execution_count": 29,
   "id": "bdbc0c24-d329-4d0c-9b37-439bf2485d96",
   "metadata": {},
   "outputs": [
    {
     "data": {
      "text/plain": [
       "(3, 5)"
      ]
     },
     "execution_count": 29,
     "metadata": {},
     "output_type": "execute_result"
    }
   ],
   "source": [
    "number3.shape # return the tuple of shape/size of the matrix (row, col)"
   ]
  },
  {
   "cell_type": "code",
   "execution_count": 30,
   "id": "55e3a218-1056-4bd5-89dc-6e0f6f895e6c",
   "metadata": {},
   "outputs": [
    {
     "data": {
      "text/plain": [
       "array([[ 1,  2,  3],\n",
       "       [ 4,  5,  6],\n",
       "       [ 7,  8,  9],\n",
       "       [10, 11, 12],\n",
       "       [13, 14, 15]])"
      ]
     },
     "execution_count": 30,
     "metadata": {},
     "output_type": "execute_result"
    }
   ],
   "source": [
    "number3.reshape(5,3) # reshape the matrix from left to right"
   ]
  },
  {
   "cell_type": "code",
   "execution_count": 31,
   "id": "a81456e5-5968-4e9d-8f67-1c50555c5190",
   "metadata": {},
   "outputs": [
    {
     "data": {
      "text/plain": [
       "array([ 1,  2,  3,  4,  5,  6,  7,  8,  9, 10, 11, 12, 13, 14, 15])"
      ]
     },
     "execution_count": 31,
     "metadata": {},
     "output_type": "execute_result"
    }
   ],
   "source": [
    "number3.flatten() # Return a copy of the array collapsed into one dimension."
   ]
  },
  {
   "cell_type": "code",
   "execution_count": 32,
   "id": "42794c59-2150-4018-b7cb-c3e0cfc52a80",
   "metadata": {},
   "outputs": [
    {
     "data": {
      "text/plain": [
       "array([ 1,  2,  3,  4,  5,  6,  7,  8,  9, 10, 11, 12, 13, 14, 15])"
      ]
     },
     "execution_count": 32,
     "metadata": {},
     "output_type": "execute_result"
    }
   ],
   "source": [
    "number3.ravel() # Return a contiguous flattened array."
   ]
  },
  {
   "cell_type": "markdown",
   "id": "82dccc7b-4fe5-429e-86fd-6d7f58f273f7",
   "metadata": {},
   "source": [
    "### Array Maths"
   ]
  },
  {
   "cell_type": "code",
   "execution_count": 33,
   "id": "98352ce5-2550-414f-8796-4008d3602d2e",
   "metadata": {},
   "outputs": [],
   "source": [
    "x1 = np.array([[1,2,3],[4,5,6]])\n",
    "y1 = np.array([[6,5,4],[3,2,1]])"
   ]
  },
  {
   "cell_type": "code",
   "execution_count": 34,
   "id": "6b281ccc-e75b-4b40-a505-35217b70dba4",
   "metadata": {},
   "outputs": [
    {
     "name": "stdout",
     "output_type": "stream",
     "text": [
      "[[1 2 3]\n",
      " [4 5 6]]\n"
     ]
    }
   ],
   "source": [
    "print(x1)"
   ]
  },
  {
   "cell_type": "code",
   "execution_count": 35,
   "id": "0193fbd2-acff-4c7d-adc3-01610dd7c99e",
   "metadata": {},
   "outputs": [
    {
     "name": "stdout",
     "output_type": "stream",
     "text": [
      "[[6 5 4]\n",
      " [3 2 1]]\n"
     ]
    }
   ],
   "source": [
    "print(y1)"
   ]
  },
  {
   "cell_type": "code",
   "execution_count": 36,
   "id": "787ee94a-c48c-407f-bb98-61f1893daeb2",
   "metadata": {},
   "outputs": [
    {
     "name": "stdout",
     "output_type": "stream",
     "text": [
      "[[7 7 7]\n",
      " [7 7 7]]\n"
     ]
    }
   ],
   "source": [
    "# You can do 4 basic operations\n",
    "\n",
    "add = x1 + y1 # It adds the matrix element by element\n",
    "print(add) # ex. x1[0,1] + y1[0,1]"
   ]
  },
  {
   "cell_type": "code",
   "execution_count": 37,
   "id": "7e8ecaef-0dbb-4634-b0fa-b34685ea7f9a",
   "metadata": {},
   "outputs": [
    {
     "name": "stdout",
     "output_type": "stream",
     "text": [
      "[[-5 -3 -1]\n",
      " [ 1  3  5]]\n"
     ]
    }
   ],
   "source": [
    "sub = x1 - y1 # It subtracts the matrix element by element\n",
    "print(sub)"
   ]
  },
  {
   "cell_type": "code",
   "execution_count": 38,
   "id": "3a8973aa-5332-4c45-b09e-19874f879696",
   "metadata": {},
   "outputs": [
    {
     "name": "stdout",
     "output_type": "stream",
     "text": [
      "[[ 6 10 12]\n",
      " [12 10  6]]\n"
     ]
    }
   ],
   "source": [
    "mul = x1 * y1 # It multiplies the matrix element by element\n",
    "print(mul)"
   ]
  },
  {
   "cell_type": "code",
   "execution_count": 39,
   "id": "96550af1-05be-418c-a234-00ef2fa606bd",
   "metadata": {},
   "outputs": [
    {
     "name": "stdout",
     "output_type": "stream",
     "text": [
      "[[0.16666667 0.4        0.75      ]\n",
      " [1.33333333 2.5        6.        ]]\n"
     ]
    }
   ],
   "source": [
    "div = x1 / y1 # It divide the matrix element by element\n",
    "print(div)"
   ]
  },
  {
   "cell_type": "code",
   "execution_count": 40,
   "id": "e0624b31-cd07-410d-ada1-c1db5112509f",
   "metadata": {},
   "outputs": [],
   "source": [
    "# add other operations\n",
    "# modulo %\n",
    "# exponent **\n",
    "# to name a few\n",
    "# always in a element by element basis\n",
    "# given the shape is the same between the two\n",
    "x2 = np.array([[1,2,3],[4,5,6],[1,23,45]])\n",
    "# x3 = x1 + x2 : could result to an error"
   ]
  },
  {
   "cell_type": "code",
   "execution_count": 41,
   "id": "933b12c4-50d3-4184-9059-82cc12df703f",
   "metadata": {},
   "outputs": [],
   "source": [
    "# EXAMPLE FROM THE BOOK #\n",
    "names = np.array(['Ann','Joe','Mark'])\n",
    "heights = np.array([1.5, 1.78, 1.6])\n",
    "weights = np.array([65, 46, 59])\n",
    "\n",
    "# Now say that you want to calculate the Body Mass Index (BMI) of this group\n",
    "# of people. The formula to calculate BMI is as follows:\n",
    "# ■ Divide the weight in kilograms (kg) by the height in meters (m)\n",
    "# ■ Divide the answer by the height again\n",
    "# Using the BMI, you can classify a person as healthy, overweight, or under-\n",
    "# weight using the following categories:\n",
    "#  Underweight if BMI < 18.5\n",
    "#  Overweight if BMI > 25\n",
    "# ■ Normal weight if 18.5 <= BMI <= 25"
   ]
  },
  {
   "cell_type": "code",
   "execution_count": 42,
   "id": "8fd382cb-e461-4648-a34c-24675aeae646",
   "metadata": {},
   "outputs": [
    {
     "name": "stdout",
     "output_type": "stream",
     "text": [
      "[28.88888889 14.51836889 23.046875  ]\n"
     ]
    }
   ],
   "source": [
    "bmi = weights/heights **2\n",
    "print(bmi)"
   ]
  },
  {
   "cell_type": "code",
   "execution_count": 43,
   "id": "ca179acb-b8c5-46d5-bdd3-97f2f950bd06",
   "metadata": {},
   "outputs": [
    {
     "name": "stdout",
     "output_type": "stream",
     "text": [
      "Overweight:  ['Ann']\n"
     ]
    }
   ],
   "source": [
    "print(\"Overweight: \" , names[bmi>25]) # See the use of boolean indexing and division"
   ]
  },
  {
   "cell_type": "code",
   "execution_count": 44,
   "id": "a618e79c-531d-4ee8-9e66-263bca59a633",
   "metadata": {},
   "outputs": [
    {
     "name": "stdout",
     "output_type": "stream",
     "text": [
      "Underweight:  ['Joe']\n"
     ]
    }
   ],
   "source": [
    "print(\"Underweight: \" , names[bmi<18.5])"
   ]
  },
  {
   "cell_type": "code",
   "execution_count": 45,
   "id": "c7c71d12-0bfa-4044-98a7-754b983dfdd4",
   "metadata": {},
   "outputs": [
    {
     "name": "stdout",
     "output_type": "stream",
     "text": [
      "Healthy:  ['Mark']\n"
     ]
    }
   ],
   "source": [
    "print(\"Healthy: \" , names[(bmi>=18.5) & (bmi<=25)]) \n",
    "# Logical operators in boolean indexing\n",
    "# these operator will work when you enclosed your statesment inside a parenthesis\n",
    "# array[(statement1) logical operator (statement2)]"
   ]
  },
  {
   "cell_type": "markdown",
   "id": "80973194-7483-4efb-ac8e-9125fd1ffa82",
   "metadata": {},
   "source": [
    "### Dot Product"
   ]
  },
  {
   "cell_type": "code",
   "execution_count": 46,
   "id": "ebdb0686-4d30-4b02-89d2-52dcff374102",
   "metadata": {},
   "outputs": [
    {
     "name": "stdout",
     "output_type": "stream",
     "text": [
      "[[ 58  64]\n",
      " [139 154]]\n"
     ]
    }
   ],
   "source": [
    "# achieved by multiplying row values to column values and its summation\n",
    "f1 = np.array([[1,2,3],[4,5,6]])\n",
    "f2 = np.array([[7,8],[9,10],[11,12]])\n",
    "xdot = np.dot(f1,f2)\n",
    "\n",
    "\"\"\"\n",
    "1 2 3    dotproduct     7  8\n",
    "4 5 6                   9  10\n",
    "                        11 12\n",
    "answer = * *\n",
    "         * *\n",
    "answer[0,0] = 1*7 + 2*9 + 3*11 = 58\n",
    "answer[0,1] = 1*8 + 2*10 + 3*12 = 64\n",
    "\n",
    "and so on...\n",
    "\"\"\"  \n",
    "print(xdot)"
   ]
  },
  {
   "cell_type": "markdown",
   "id": "4d816d1c-0e22-41a8-9587-b0c8d7bccc1c",
   "metadata": {},
   "source": [
    "### Matrix"
   ]
  },
  {
   "cell_type": "code",
   "execution_count": 47,
   "id": "b0c56e05-40e7-452e-ad26-b92cd67366a2",
   "metadata": {},
   "outputs": [
    {
     "name": "stdout",
     "output_type": "stream",
     "text": [
      "[[1 2 3]\n",
      " [4 5 5]]\n"
     ]
    }
   ],
   "source": [
    "# matrix are stricly 2 dimensional\n",
    "# Created same as the numpy arrays\n",
    "x2 = np.matrix([[1,2,3],[4,5,5]])\n",
    "print(x2)"
   ]
  },
  {
   "cell_type": "code",
   "execution_count": 48,
   "id": "f2d539b0-cf5e-47f5-8ca9-d75c1418bbf3",
   "metadata": {},
   "outputs": [
    {
     "name": "stdout",
     "output_type": "stream",
     "text": [
      "<class 'numpy.ndarray'>\n",
      "<class 'numpy.matrix'>\n"
     ]
    }
   ],
   "source": [
    "print(type(x1))\n",
    "# you can convert numpy array to matrix using\n",
    "x1 = np.asmatrix(x1)\n",
    "print(type(x1))"
   ]
  },
  {
   "cell_type": "code",
   "execution_count": 49,
   "id": "bd90ed13-61b1-4a14-b00d-9a8a4e31ec9d",
   "metadata": {},
   "outputs": [
    {
     "name": "stdout",
     "output_type": "stream",
     "text": [
      "[[ 5 12]\n",
      " [21 32]]\n"
     ]
    }
   ],
   "source": [
    "# matrix vs array in multiplication\n",
    "# when you multiply numpy arrays, they do element by element multiplication\n",
    "# but when you multiply matrices, they do dot product\n",
    "\n",
    "try1 = np.array([[1,2],[3,4]])\n",
    "try2 = np.array([[5,6],[7,8]])\n",
    "\n",
    "mul = try1 * try2 # Element by element multiplication\n",
    "print(mul)"
   ]
  },
  {
   "cell_type": "code",
   "execution_count": 50,
   "id": "32051fb7-3105-4a14-ae30-549c1a6e6e2e",
   "metadata": {},
   "outputs": [
    {
     "name": "stdout",
     "output_type": "stream",
     "text": [
      "[[19 22]\n",
      " [43 50]]\n"
     ]
    }
   ],
   "source": [
    "try1 = np.asmatrix(try1)\n",
    "try2 = np.asmatrix(try2)\n",
    "\n",
    "mmul = try1*try2 # Scalar/Dot Product ; like np.dot()\n",
    "print(mmul)"
   ]
  },
  {
   "cell_type": "markdown",
   "id": "15cdc2da-02f4-41d5-94a1-8e778e96d6d9",
   "metadata": {},
   "source": [
    "### Cumulative Sum"
   ]
  },
  {
   "cell_type": "code",
   "execution_count": 51,
   "id": "b4e9770f-383a-4865-a216-846a90744c36",
   "metadata": {},
   "outputs": [
    {
     "name": "stdout",
     "output_type": "stream",
     "text": [
      "[ 1  3  6 10 15 21]\n"
     ]
    }
   ],
   "source": [
    "x1 = np.asarray(x1) # it is set to be a matrix in past blocks (converted back to array)\n",
    "print(x1.cumsum()) # used to display the total sum of data as it grows with time (cumulative sum)\n",
    "# cumsum hehe"
   ]
  },
  {
   "cell_type": "code",
   "execution_count": 52,
   "id": "3ec080cf-fefa-4837-bcbd-b75f5b9de788",
   "metadata": {},
   "outputs": [
    {
     "name": "stdout",
     "output_type": "stream",
     "text": [
      "[[1 2 3]\n",
      " [5 7 9]]\n"
     ]
    }
   ],
   "source": [
    "# you can modify its direction by the axis parameter\n",
    "\n",
    "print(x1.cumsum(axis=0)) # Get the cumulative sum by columns"
   ]
  },
  {
   "cell_type": "code",
   "execution_count": 53,
   "id": "693f2ae3-3577-4e13-b570-66fe1cc424b5",
   "metadata": {},
   "outputs": [
    {
     "name": "stdout",
     "output_type": "stream",
     "text": [
      "[[ 1  3  6]\n",
      " [ 4  9 15]]\n"
     ]
    }
   ],
   "source": [
    "print(x1.cumsum(axis=1)) # Get the Cumulative sum by rows"
   ]
  },
  {
   "cell_type": "markdown",
   "id": "8d7fddc9-9801-4d16-8068-715bd85b23e9",
   "metadata": {},
   "source": [
    "### Numpy sorting"
   ]
  },
  {
   "cell_type": "code",
   "execution_count": 54,
   "id": "2fe1efe1-e3fa-4900-8ca5-e70ca01afc6d",
   "metadata": {},
   "outputs": [
    {
     "name": "stdout",
     "output_type": "stream",
     "text": [
      "[12 14 16 17]\n"
     ]
    }
   ],
   "source": [
    "# np.sort() doesn't modify the original array\n",
    "\n",
    "minors = np.array([16,14,12,17])\n",
    "print(np.sort(minors))"
   ]
  },
  {
   "cell_type": "code",
   "execution_count": 55,
   "id": "36c8a9a2-b44a-4c23-b8fc-68319887229d",
   "metadata": {},
   "outputs": [
    {
     "name": "stdout",
     "output_type": "stream",
     "text": [
      "[16 14 12 17]\n"
     ]
    }
   ],
   "source": [
    "print(minors) # it doesn't change"
   ]
  },
  {
   "cell_type": "code",
   "execution_count": 56,
   "id": "f62e5709-fc5e-44a6-ba98-95f1c89b1ee1",
   "metadata": {},
   "outputs": [
    {
     "name": "stdout",
     "output_type": "stream",
     "text": [
      "[12 14 16 17]\n"
     ]
    }
   ],
   "source": [
    "# .sort() after the numpy array will sort and modify it\n",
    "minors.sort()\n",
    "print(minors)"
   ]
  },
  {
   "cell_type": "code",
   "execution_count": 57,
   "id": "8956a9d7-4870-4215-9372-94f1021a3e61",
   "metadata": {},
   "outputs": [
    {
     "name": "stdout",
     "output_type": "stream",
     "text": [
      "[2 1 0 3]\n"
     ]
    }
   ],
   "source": [
    "# .argsort() or np.argsort() will return the the indices \n",
    "# of the array and sort it base to the original value\n",
    "drake_likes = np.array([16,14,12,17])\n",
    "print(drake_likes.argsort())"
   ]
  },
  {
   "cell_type": "code",
   "execution_count": 58,
   "id": "5c12b508-0bfa-43f2-9bc6-0b509eab5199",
   "metadata": {},
   "outputs": [
    {
     "name": "stdout",
     "output_type": "stream",
     "text": [
      "[12 14 16 17]\n"
     ]
    }
   ],
   "source": [
    "drake_rank = np.argsort(drake_likes)\n",
    "print(drake_likes[drake_rank]) # can be used like boolean index' manner "
   ]
  },
  {
   "cell_type": "markdown",
   "id": "63e63317-7180-4206-83e3-c7ec3238bfcb",
   "metadata": {},
   "source": [
    "### Numpy Array Assignments"
   ]
  },
  {
   "cell_type": "code",
   "execution_count": 59,
   "id": "37d0277b-5d4f-46b4-98de-1d4c1a4c7117",
   "metadata": {},
   "outputs": [
    {
     "name": "stdout",
     "output_type": "stream",
     "text": [
      "[[1 2 3 4]\n",
      " [5 6 7 8]]\n"
     ]
    }
   ],
   "source": [
    "# Copy by reference\n",
    "list1 = [[1,2,3,4], [5,6,7,8]]\n",
    "a1 = np.array(list1)\n",
    "print(a1)"
   ]
  },
  {
   "cell_type": "code",
   "execution_count": 60,
   "id": "428f0c1d-a21d-47f7-ba01-85f4bee36728",
   "metadata": {},
   "outputs": [
    {
     "name": "stdout",
     "output_type": "stream",
     "text": [
      "[[1 2 3 4]\n",
      " [5 6 7 8]]\n"
     ]
    }
   ],
   "source": [
    "a2 = a1 # Copying By reference\n",
    "print(a2)"
   ]
  },
  {
   "cell_type": "code",
   "execution_count": 61,
   "id": "f7abd1bf-5f93-413e-a7f1-f7503b28fcc5",
   "metadata": {},
   "outputs": [
    {
     "name": "stdout",
     "output_type": "stream",
     "text": [
      "[[11  2  3  4]\n",
      " [ 5  6  7  8]]\n"
     ]
    }
   ],
   "source": [
    "a1[0,0] = 11 # Making changes to the original array\n",
    "print(a1)"
   ]
  },
  {
   "cell_type": "code",
   "execution_count": 62,
   "id": "18a8c43f-c6c6-4ed6-ae82-09879c373c94",
   "metadata": {},
   "outputs": [
    {
     "name": "stdout",
     "output_type": "stream",
     "text": [
      "[[11  2  3  4]\n",
      " [ 5  6  7  8]]\n"
     ]
    }
   ],
   "source": [
    "print(a2) # will reflect to the copy"
   ]
  },
  {
   "cell_type": "code",
   "execution_count": 63,
   "id": "b492ac66-d0e4-4670-9f64-d87602f558c2",
   "metadata": {},
   "outputs": [
    {
     "name": "stdout",
     "output_type": "stream",
     "text": [
      "[[11  2  3  4  5  6  7  8]]\n"
     ]
    }
   ],
   "source": [
    "# even reshapes will reflect\n",
    "a1.shape = 1,-1\n",
    "print(a1)"
   ]
  },
  {
   "cell_type": "code",
   "execution_count": 64,
   "id": "495fc898-6502-47c9-b231-92103d9c1dd2",
   "metadata": {},
   "outputs": [
    {
     "name": "stdout",
     "output_type": "stream",
     "text": [
      "[[11  2  3  4  5  6  7  8]]\n"
     ]
    }
   ],
   "source": [
    "print(a2)"
   ]
  },
  {
   "cell_type": "code",
   "execution_count": 65,
   "id": "09fc4377-9276-4dd8-ac01-f8c1740e0855",
   "metadata": {},
   "outputs": [
    {
     "name": "stdout",
     "output_type": "stream",
     "text": [
      "[[1 2 3 4]\n",
      " [5 6 7 8]]\n"
     ]
    }
   ],
   "source": [
    "a1 = np.array(list1) # revert back for next example\n",
    "\n",
    "# Copy by View (Shallow copy)\n",
    "a2 = a1.view() # copying using the view method\n",
    "print(a1)"
   ]
  },
  {
   "cell_type": "code",
   "execution_count": 66,
   "id": "6e99eef8-c180-411e-a03c-6a88c875c77a",
   "metadata": {},
   "outputs": [
    {
     "name": "stdout",
     "output_type": "stream",
     "text": [
      "[[1 2 3 4]\n",
      " [5 6 7 8]]\n"
     ]
    }
   ],
   "source": [
    "print(a2)"
   ]
  },
  {
   "cell_type": "code",
   "execution_count": 67,
   "id": "4fe6652e-2b4b-49f6-aad4-4843725c78f0",
   "metadata": {},
   "outputs": [
    {
     "name": "stdout",
     "output_type": "stream",
     "text": [
      "[[11  2  3  4]\n",
      " [ 5  6  7  8]]\n"
     ]
    }
   ],
   "source": [
    "a1[0,0] = 11 # Value changes to the array \n",
    "print(a1)"
   ]
  },
  {
   "cell_type": "code",
   "execution_count": 68,
   "id": "e2184c9c-2e16-42a9-9131-bf09a5f15c2f",
   "metadata": {},
   "outputs": [
    {
     "name": "stdout",
     "output_type": "stream",
     "text": [
      "[[11  2  3  4]\n",
      " [ 5  6  7  8]]\n"
     ]
    }
   ],
   "source": [
    "print(a2) # will reflect"
   ]
  },
  {
   "cell_type": "code",
   "execution_count": 69,
   "id": "0618009a-cdf1-4f24-a202-2f56d0cb9a86",
   "metadata": {},
   "outputs": [
    {
     "name": "stdout",
     "output_type": "stream",
     "text": [
      "[[11  2  3  4  5  6  7  8]]\n"
     ]
    }
   ],
   "source": [
    "a1.shape = 1,-1 # but shaping\n",
    "print(a1)"
   ]
  },
  {
   "cell_type": "code",
   "execution_count": 70,
   "id": "a173b963-52c0-4ed7-8bc1-2f1c874d72e6",
   "metadata": {},
   "outputs": [
    {
     "name": "stdout",
     "output_type": "stream",
     "text": [
      "[[11  2  3  4]\n",
      " [ 5  6  7  8]]\n"
     ]
    }
   ],
   "source": [
    "print(a2) # will not reflect"
   ]
  },
  {
   "cell_type": "code",
   "execution_count": 71,
   "id": "d3b9e0a7-4f69-42e8-badf-9ed1f3451824",
   "metadata": {},
   "outputs": [
    {
     "name": "stdout",
     "output_type": "stream",
     "text": [
      "[[1 2 3 4]\n",
      " [5 6 7 8]]\n"
     ]
    }
   ],
   "source": [
    "a1 = np.array(list1) # revert back for next example\n",
    "\n",
    "# Copying by Value (Deep Copy)\n",
    "a2 = a1.copy() #Copy\n",
    "print(a1)"
   ]
  },
  {
   "cell_type": "code",
   "execution_count": 72,
   "id": "67140171-0dda-4946-a61b-a8017b134c81",
   "metadata": {},
   "outputs": [
    {
     "name": "stdout",
     "output_type": "stream",
     "text": [
      "[[1 2 3 4]\n",
      " [5 6 7 8]]\n"
     ]
    }
   ],
   "source": [
    "print(a2)"
   ]
  },
  {
   "cell_type": "code",
   "execution_count": 73,
   "id": "c6e0a96d-c8fb-409b-a583-f745e06ac50f",
   "metadata": {},
   "outputs": [
    {
     "name": "stdout",
     "output_type": "stream",
     "text": [
      "[[11  2  3  4]\n",
      " [ 5  6  7  8]]\n"
     ]
    }
   ],
   "source": [
    "a1[0,0] = 11 # Value changes to the array \n",
    "print(a1)"
   ]
  },
  {
   "cell_type": "code",
   "execution_count": 74,
   "id": "dff9b219-d508-485c-b2fa-5255b1606456",
   "metadata": {},
   "outputs": [
    {
     "name": "stdout",
     "output_type": "stream",
     "text": [
      "[[1 2 3 4]\n",
      " [5 6 7 8]]\n"
     ]
    }
   ],
   "source": [
    "print(a2) # will not reflect to the copy"
   ]
  },
  {
   "cell_type": "code",
   "execution_count": 75,
   "id": "f7d9a984-9594-49c8-90cc-b5d055ce81b6",
   "metadata": {},
   "outputs": [
    {
     "name": "stdout",
     "output_type": "stream",
     "text": [
      "[[11  2  3  4  5  6  7  8]]\n"
     ]
    }
   ],
   "source": [
    "# as well as reshaping\n",
    "a1.shape = 1,-1 # but shaping\n",
    "print(a1)"
   ]
  },
  {
   "cell_type": "code",
   "execution_count": 76,
   "id": "bd91ea7f-b194-4b2a-be70-2545ccd7a4ec",
   "metadata": {},
   "outputs": [
    {
     "name": "stdout",
     "output_type": "stream",
     "text": [
      "[[1 2 3 4]\n",
      " [5 6 7 8]]\n"
     ]
    }
   ],
   "source": [
    "print(a2) # CHAD"
   ]
  },
  {
   "cell_type": "markdown",
   "id": "ee328e46-11d1-4f82-96ef-16620cdbab68",
   "metadata": {},
   "source": [
    "## Chapter 3 Manipulating Tabular Data in Pandas\n",
    "\n",
    "- Numpy is good in n-dimension array, not good for other data science stuff\n",
    "- Real life data are mostly in tabular form\n",
    "- Mostly this is in csv's\n",
    "- Pandas are suitable for data that stored in tables\n",
    "- good for relational or labeled data in easy and inuitive manner"
   ]
  },
  {
   "cell_type": "markdown",
   "id": "d49ab3d8-5ab0-4c22-8a92-7e553fb73fe5",
   "metadata": {},
   "source": [
    "### Pandas Series\n",
    "- one dimensional numpy like array\n",
    "- behave like a dictionary"
   ]
  },
  {
   "cell_type": "code",
   "execution_count": 77,
   "id": "8cbe124c-b1e1-400a-8176-25b7b2a917a7",
   "metadata": {},
   "outputs": [
    {
     "name": "stdout",
     "output_type": "stream",
     "text": [
      "0    1\n",
      "1    2\n",
      "2    3\n",
      "3    4\n",
      "4    5\n",
      "dtype: int64\n"
     ]
    }
   ],
   "source": [
    "import pandas as pd # use of pd as an alias for pandas is the custom so use it\n",
    "series = pd.Series([1,2,3,4,5]) # as an on dimensional array, indexing will starts @ 0\n",
    "print(series) # printing a series will return a 2 cols, 1 is its index other is his values"
   ]
  },
  {
   "cell_type": "code",
   "execution_count": 78,
   "id": "32a6baac-f80c-4599-99b3-1b78f05bf354",
   "metadata": {},
   "outputs": [
    {
     "name": "stdout",
     "output_type": "stream",
     "text": [
      "a    1\n",
      "b    2\n",
      "c    3\n",
      "d    4\n",
      "c    5\n",
      "dtype: int64\n"
     ]
    }
   ],
   "source": [
    "# setting index will CHANGE indexing to your preferrence\n",
    "series = pd.Series([1,2,3,4,5], index=['a','b','c','d','c'])\n",
    "print(series) # index not need to be a Unique value"
   ]
  },
  {
   "cell_type": "markdown",
   "id": "3335754e-c1d3-4be6-b646-0724bc887391",
   "metadata": {},
   "source": [
    "### Accessing Elements in a Series"
   ]
  },
  {
   "cell_type": "code",
   "execution_count": 79,
   "id": "1bd8da7f-bff1-4cff-aa39-8a0479ce8e2c",
   "metadata": {},
   "outputs": [
    {
     "name": "stdout",
     "output_type": "stream",
     "text": [
      "1\n"
     ]
    }
   ],
   "source": [
    "print(series['a']) # same as accesing arrays"
   ]
  },
  {
   "cell_type": "code",
   "execution_count": 80,
   "id": "55cdeac7-7739-4e2c-bd4c-a017de0c0b33",
   "metadata": {},
   "outputs": [
    {
     "name": "stdout",
     "output_type": "stream",
     "text": [
      "1\n"
     ]
    },
    {
     "name": "stderr",
     "output_type": "stream",
     "text": [
      "/tmp/ipykernel_202923/4205799841.py:1: FutureWarning: Series.__getitem__ treating keys as positions is deprecated. In a future version, integer keys will always be treated as labels (consistent with DataFrame behavior). To access a value by position, use `ser.iloc[pos]`\n",
      "  print(series[0]) # this works but its a deprecated function so always treat keys as it is\n"
     ]
    }
   ],
   "source": [
    "print(series[0]) # this works but its a deprecated function so always treat keys as it is"
   ]
  },
  {
   "cell_type": "code",
   "execution_count": 81,
   "id": "71644953-5127-425e-a8ff-30dd0fb8aedd",
   "metadata": {},
   "outputs": [
    {
     "name": "stdout",
     "output_type": "stream",
     "text": [
      "1\n"
     ]
    }
   ],
   "source": [
    "print(series.loc['a']) # loc or location can do that too"
   ]
  },
  {
   "cell_type": "code",
   "execution_count": 82,
   "id": "cf1eb72c-9aab-4cce-83ff-fae73c0ca1dd",
   "metadata": {},
   "outputs": [
    {
     "name": "stdout",
     "output_type": "stream",
     "text": [
      "c    3\n",
      "c    5\n",
      "dtype: int64\n"
     ]
    }
   ],
   "source": [
    "print(series.loc['c']) # this display a Series that shows both have 'c'|"
   ]
  },
  {
   "cell_type": "code",
   "execution_count": 83,
   "id": "b1c00739-612f-4e75-9f2b-863c674afb81",
   "metadata": {},
   "outputs": [
    {
     "name": "stdout",
     "output_type": "stream",
     "text": [
      "d    4\n",
      "c    5\n",
      "dtype: int64\n"
     ]
    }
   ],
   "source": [
    " print(series[3:]) # You can still do this"
   ]
  },
  {
   "cell_type": "code",
   "execution_count": 84,
   "id": "a4aaf349-d95b-47dc-a161-6c498ace2915",
   "metadata": {},
   "outputs": [
    {
     "name": "stdout",
     "output_type": "stream",
     "text": [
      "5\n"
     ]
    }
   ],
   "source": [
    "# or use Integer Location or iloc!\n",
    "print(series.iloc[-1])"
   ]
  },
  {
   "cell_type": "code",
   "execution_count": 85,
   "id": "9ca1aaf0-5ae1-4ae4-82ff-b2ef90a759bb",
   "metadata": {},
   "outputs": [
    {
     "name": "stdout",
     "output_type": "stream",
     "text": [
      "a    1\n",
      "b    2\n",
      "c    3\n",
      "dtype: int64\n"
     ]
    }
   ],
   "source": [
    "print(series.iloc[:-2]) # print start to the 3rd to the last!"
   ]
  },
  {
   "cell_type": "markdown",
   "id": "802446b5-0b0b-4a27-9685-249925cda9d6",
   "metadata": {},
   "source": [
    "### Specifying a Datetime Range as the Index of a Series"
   ]
  },
  {
   "cell_type": "code",
   "execution_count": 86,
   "id": "0786bc04-cad1-4f47-a6c7-f85685ea1124",
   "metadata": {},
   "outputs": [
    {
     "name": "stdout",
     "output_type": "stream",
     "text": [
      "DatetimeIndex(['2019-05-25', '2019-05-26', '2019-05-27', '2019-05-28',\n",
      "               '2019-05-29', '2019-05-30', '2019-05-31', '2019-06-01',\n",
      "               '2019-06-02', '2019-06-03', '2019-06-04', '2019-06-05'],\n",
      "              dtype='datetime64[ns]', freq='D')\n"
     ]
    }
   ],
   "source": [
    "dates = pd.date_range(\"20190525\", periods=12) \n",
    "# Date range are used the have a running sequences of dates / \"TIMESERIES\"\n",
    "# Without even manually typing them\n",
    "print(dates) #returns a datetimeIndex Object where values are datetime"
   ]
  },
  {
   "cell_type": "code",
   "execution_count": 87,
   "id": "c81852c1-ee38-47fb-a47a-bbe86187a86f",
   "metadata": {},
   "outputs": [
    {
     "name": "stdout",
     "output_type": "stream",
     "text": [
      "2019-05-25     1\n",
      "2019-05-26     2\n",
      "2019-05-27     3\n",
      "2019-05-28     4\n",
      "2019-05-29     5\n",
      "2019-05-30     6\n",
      "2019-05-31     7\n",
      "2019-06-01     8\n",
      "2019-06-02     9\n",
      "2019-06-03    10\n",
      "2019-06-04    11\n",
      "2019-06-05    12\n",
      "Freq: D, dtype: int64\n"
     ]
    }
   ],
   "source": [
    "series = pd.Series(np.arange(1,13)) # creates Series with numpy array using np.arrange(start,stop,step)\n",
    "series.index = dates # Series.index is an attributes that you can change the index\n",
    "print(series)"
   ]
  },
  {
   "cell_type": "markdown",
   "id": "ea95c7f6-73fd-4ad5-bebb-e02b96a55515",
   "metadata": {},
   "source": [
    "### Date Ranges"
   ]
  },
  {
   "cell_type": "code",
   "execution_count": 88,
   "id": "a068c754-0084-419a-abaf-7580da113c3b",
   "metadata": {},
   "outputs": [
    {
     "name": "stdout",
     "output_type": "stream",
     "text": [
      "DatetimeIndex(['2024-01-01', '2024-01-02', '2024-01-03', '2024-01-04',\n",
      "               '2024-01-05', '2024-01-06', '2024-01-07', '2024-01-08',\n",
      "               '2024-01-09', '2024-01-10', '2024-01-11', '2024-01-12'],\n",
      "              dtype='datetime64[ns]', freq='D')\n"
     ]
    }
   ],
   "source": [
    "dates2 = pd.date_range(\"20240101\", periods=12, freq=\"D\")\n",
    "# the String value is the starting date using date format year-month-day\n",
    "# periods is the step of the timeseries\n",
    "# freq or the frequency are the ranges or manner of how dates will be modified\n",
    "# freq can be 'D' = daily (the default option), 'MS' = Monthly Start, 'ME' = Monthly End\n",
    "# 'YS' = Year Start, 'YE' = Year End\n",
    "print(dates2)"
   ]
  },
  {
   "cell_type": "code",
   "execution_count": 89,
   "id": "7bcebb14-7232-414d-b795-20464f7548e5",
   "metadata": {},
   "outputs": [
    {
     "name": "stdout",
     "output_type": "stream",
     "text": [
      "DatetimeIndex(['2024-01-01', '2024-02-01', '2024-03-01', '2024-04-01',\n",
      "               '2024-05-01', '2024-06-01', '2024-07-01', '2024-08-01',\n",
      "               '2024-09-01', '2024-10-01', '2024-11-01', '2024-12-01'],\n",
      "              dtype='datetime64[ns]', freq='MS')\n"
     ]
    }
   ],
   "source": [
    "dates2 = pd.date_range(\"20240101\", periods=12, freq=\"MS\") \n",
    "# Periods are added Monthly, but outputs are at the first day of the month\n",
    "print(dates2)"
   ]
  },
  {
   "cell_type": "code",
   "execution_count": 90,
   "id": "c63053a7-eb4f-4a52-8f3e-8641a56ecfd1",
   "metadata": {},
   "outputs": [
    {
     "name": "stdout",
     "output_type": "stream",
     "text": [
      "DatetimeIndex(['2024-01-31', '2024-02-29', '2024-03-31', '2024-04-30',\n",
      "               '2024-05-31', '2024-06-30', '2024-07-31', '2024-08-31',\n",
      "               '2024-09-30', '2024-10-31', '2024-11-30', '2024-12-31'],\n",
      "              dtype='datetime64[ns]', freq='ME')\n"
     ]
    }
   ],
   "source": [
    "dates2 = pd.date_range(\"20240101\", periods=12, freq=\"ME\")\n",
    "# Periods are added Monthly, but outputs are at the last day of the month\n",
    "print(dates2)"
   ]
  },
  {
   "cell_type": "code",
   "execution_count": 91,
   "id": "286e9f0d-d86f-4d58-94a6-7599a376d9d8",
   "metadata": {},
   "outputs": [
    {
     "name": "stdout",
     "output_type": "stream",
     "text": [
      "DatetimeIndex(['2024-01-05', '2024-01-06', '2024-01-07', '2024-01-08',\n",
      "               '2024-01-09', '2024-01-10', '2024-01-11', '2024-01-12',\n",
      "               '2024-01-13', '2024-01-14', '2024-01-15', '2024-01-16'],\n",
      "              dtype='datetime64[ns]', freq='D')\n"
     ]
    }
   ],
   "source": [
    "# example 01-05-2024\n",
    "dates3 = pd.date_range(\"01-05-2024\", periods=12) # in this matter im not really sure what the time format\n",
    "# but it seems that pandas proccessed the dates as Month-Date-Year\n",
    "print(dates3)"
   ]
  },
  {
   "cell_type": "code",
   "execution_count": 92,
   "id": "64cb70b6-7388-45bc-871b-68722d40ce84",
   "metadata": {},
   "outputs": [
    {
     "name": "stdout",
     "output_type": "stream",
     "text": [
      "DatetimeIndex(['2024-02-01', '2024-03-01', '2024-04-01', '2024-05-01',\n",
      "               '2024-06-01', '2024-07-01', '2024-08-01', '2024-09-01',\n",
      "               '2024-10-01', '2024-11-01', '2024-12-01', '2025-01-01'],\n",
      "              dtype='datetime64[ns]', freq='MS')\n"
     ]
    }
   ],
   "source": [
    "# example 01/05/2024\n",
    "dates3 = pd.date_range(\"01/05/2024\", periods=12, freq='MS') # seems it also applied to this way\n",
    "# month-day-month\n",
    "print(dates3)"
   ]
  },
  {
   "cell_type": "code",
   "execution_count": 93,
   "id": "939e77f5-9664-45d5-836d-5b99feb20f5c",
   "metadata": {},
   "outputs": [
    {
     "name": "stdout",
     "output_type": "stream",
     "text": [
      "DatetimeIndex(['2019-05-17 12:00:00', '2019-05-17 13:00:00',\n",
      "               '2019-05-17 14:00:00', '2019-05-17 15:00:00',\n",
      "               '2019-05-17 16:00:00', '2019-05-17 17:00:00',\n",
      "               '2019-05-17 18:00:00', '2019-05-17 19:00:00',\n",
      "               '2019-05-17 20:00:00', '2019-05-17 21:00:00',\n",
      "               '2019-05-17 22:00:00', '2019-05-17 23:00:00'],\n",
      "              dtype='datetime64[ns]', freq='h')\n"
     ]
    }
   ],
   "source": [
    "# date_range can also handle time and freq can be 'h' which is the time is incremented\n",
    "# Hourly for the period process\n",
    "dates4 = pd.date_range(\"2019-05-17 12:00:00\",periods=12, freq='h') # added a 24 hr-format time\n",
    "print(dates4)"
   ]
  },
  {
   "cell_type": "markdown",
   "id": "49c26a56-f5e5-4bd1-9381-78a3d8168ccf",
   "metadata": {},
   "source": [
    "### Pandas DataFrame\n",
    "\n",
    "- Two Dimensional numpy like array\n",
    "- mirrors the real life data\n",
    "- can slice like a madman (both Series slicing and DataFrames Slicing)\n",
    "- mostly this is extracting rows and columns are the job in pandas\n",
    "- data manipulations and data cleaning is also involved\n",
    "- Used for representation of data in Machine Learning"
   ]
  },
  {
   "cell_type": "markdown",
   "id": "b87a1b82-d3fd-485f-9a44-f23f680c9a85",
   "metadata": {},
   "source": [
    "### Creating Data Frame"
   ]
  },
  {
   "cell_type": "code",
   "execution_count": 94,
   "id": "6fad574f-8d4a-4d9c-be50-b19f998105d3",
   "metadata": {},
   "outputs": [
    {
     "name": "stdout",
     "output_type": "stream",
     "text": [
      "          A         B         C         D\n",
      "0  0.158294 -0.152097  0.962826  0.779027\n",
      "1  0.571415 -0.791438  0.166042 -0.584373\n",
      "2  0.157738  0.248846 -0.337934  1.557236\n",
      "3 -1.968210 -0.833159 -0.642852  0.011324\n",
      "4  0.658876 -1.296092 -2.520846 -0.901576\n",
      "5  0.714369 -0.144770  0.431147 -1.430411\n",
      "6 -0.354987 -1.719900 -1.002914  0.440027\n",
      "7 -2.192925 -1.263645  1.371032  0.138926\n",
      "8 -0.206288 -0.408219 -1.651362 -0.084739\n",
      "9  1.265283  1.445400  0.875576 -0.502698\n"
     ]
    }
   ],
   "source": [
    "# pandas and are already imported to this notebook, please bear it in mind\n",
    "df = pd.DataFrame(np.random.randn(10,4), # np.random.randn(rows,columns)\n",
    "                  columns=list('ABCD')) # Changing the Column names to ABCD respectively\n",
    "print(df)"
   ]
  },
  {
   "cell_type": "code",
   "execution_count": 95,
   "id": "7fe8f072-81e2-4d62-8579-4963312bab92",
   "metadata": {},
   "outputs": [],
   "source": [
    "df.to_csv('data.csv', index=False) \n",
    "# Saving the dataframe to .csv without the annoying automatic index"
   ]
  },
  {
   "cell_type": "code",
   "execution_count": 96,
   "id": "e3bcd5b3-6f1d-469b-b53a-20f6dc6de2cf",
   "metadata": {},
   "outputs": [
    {
     "name": "stdout",
     "output_type": "stream",
     "text": [
      "          A         B         C         D\n",
      "0  0.158294 -0.152097  0.962826  0.779027\n",
      "1  0.571415 -0.791438  0.166042 -0.584373\n",
      "2  0.157738  0.248846 -0.337934  1.557236\n",
      "3 -1.968210 -0.833159 -0.642852  0.011324\n",
      "4  0.658876 -1.296092 -2.520846 -0.901576\n",
      "5  0.714369 -0.144770  0.431147 -1.430411\n",
      "6 -0.354987 -1.719900 -1.002914  0.440027\n",
      "7 -2.192925 -1.263645  1.371032  0.138926\n",
      "8 -0.206288 -0.408219 -1.651362 -0.084739\n",
      "9  1.265283  1.445400  0.875576 -0.502698\n"
     ]
    }
   ],
   "source": [
    "# some of the datas you will work on is place to a .csv file, so you need to download it\n",
    "# and read the csv file using pandas\n",
    "df1 = pd.read_csv('data.csv')\n",
    "print(df1)"
   ]
  },
  {
   "cell_type": "markdown",
   "id": "d0139517-9366-4127-a725-34d3b37b6b9a",
   "metadata": {},
   "source": [
    "### Specifying the Index in a DataFrame"
   ]
  },
  {
   "cell_type": "code",
   "execution_count": 97,
   "id": "8b6add12-d54c-42d5-94c4-a611cedd8164",
   "metadata": {},
   "outputs": [
    {
     "name": "stdout",
     "output_type": "stream",
     "text": [
      "                   A         B         C         D\n",
      "2024-08-29  0.158294 -0.152097  0.962826  0.779027\n",
      "2024-08-30  0.571415 -0.791438  0.166042 -0.584373\n",
      "2024-08-31  0.157738  0.248846 -0.337934  1.557236\n",
      "2024-09-01 -1.968210 -0.833159 -0.642852  0.011324\n",
      "2024-09-02  0.658876 -1.296092 -2.520846 -0.901576\n",
      "2024-09-03  0.714369 -0.144770  0.431147 -1.430411\n",
      "2024-09-04 -0.354987 -1.719900 -1.002914  0.440027\n",
      "2024-09-05 -2.192925 -1.263645  1.371032  0.138926\n",
      "2024-09-06 -0.206288 -0.408219 -1.651362 -0.084739\n",
      "2024-09-07  1.265283  1.445400  0.875576 -0.502698\n"
     ]
    }
   ],
   "source": [
    "# Using the lesson we learn from date_range method\n",
    "dates = pd.date_range('20240829', periods=10)\n",
    "df1.index = dates\n",
    "print(df1)"
   ]
  },
  {
   "cell_type": "code",
   "execution_count": 102,
   "id": "18336fa8-a007-4a31-97ff-19f0905bb460",
   "metadata": {},
   "outputs": [
    {
     "name": "stdout",
     "output_type": "stream",
     "text": [
      "DatetimeIndex(['2024-08-29', '2024-08-30', '2024-08-31', '2024-09-01',\n",
      "               '2024-09-02', '2024-09-03', '2024-09-04', '2024-09-05',\n",
      "               '2024-09-06', '2024-09-07'],\n",
      "              dtype='datetime64[ns]', freq='D')\n"
     ]
    }
   ],
   "source": [
    "print(df1.index) # printing the modified indeces"
   ]
  },
  {
   "cell_type": "code",
   "execution_count": 103,
   "id": "8789f6cb-3ff4-4ed5-b65e-0dcbdbb8670c",
   "metadata": {},
   "outputs": [
    {
     "name": "stdout",
     "output_type": "stream",
     "text": [
      "[[ 0.15829424 -0.15209698  0.9628257   0.7790274 ]\n",
      " [ 0.57141515 -0.79143833  0.16604205 -0.58437314]\n",
      " [ 0.15773772  0.24884627 -0.33793399  1.55723616]\n",
      " [-1.96820985 -0.83315908 -0.6428525   0.01132352]\n",
      " [ 0.65887608 -1.29609183 -2.52084636 -0.90157644]\n",
      " [ 0.71436937 -0.14477049  0.43114747 -1.43041131]\n",
      " [-0.35498677 -1.71989991 -1.00291382  0.44002746]\n",
      " [-2.19292523 -1.26364509  1.37103152  0.13892618]\n",
      " [-0.20628839 -0.40821865 -1.65136155 -0.08473901]\n",
      " [ 1.26528329  1.44539991  0.87557637 -0.5026983 ]]\n"
     ]
    }
   ],
   "source": [
    "print(df1.values) # this just print solely the values without including indexes and column names"
   ]
  },
  {
   "cell_type": "markdown",
   "id": "c67c1f4e-424a-43a2-8e57-e2185874d597",
   "metadata": {},
   "source": [
    "### Generating Descriptive Statistics on the DataFrame"
   ]
  },
  {
   "cell_type": "code",
   "execution_count": 107,
   "id": "4ea06bfd-68e1-411a-a5b4-edd99487dc72",
   "metadata": {},
   "outputs": [
    {
     "name": "stdout",
     "output_type": "stream",
     "text": [
      "               A          B          C          D\n",
      "count  10.000000  10.000000  10.000000  10.000000\n",
      "mean   -0.119643  -0.491507  -0.234929  -0.057726\n",
      "std     1.136761   0.912949   1.240515   0.861000\n",
      "min    -2.192925  -1.719900  -2.520846  -1.430411\n",
      "25%    -0.317812  -1.156024  -0.912898  -0.563954\n",
      "50%     0.158016  -0.599828  -0.085946  -0.036708\n",
      "75%     0.637011  -0.146602   0.764469   0.364752\n",
      "max     1.265283   1.445400   1.371032   1.557236\n"
     ]
    }
   ],
   "source": [
    "print(df1.describe()) \n",
    "# gives us descriptive analysis in data we are handling\n",
    "# as of here we have\n",
    "# count - number of data in the column\n",
    "# mean - mean of the column\n",
    "# min - minimum value in the column\n",
    "# max - Maximum value  in the column\n",
    "# variance (25% - 75%)"
   ]
  },
  {
   "cell_type": "code",
   "execution_count": 111,
   "id": "02af3a63-7868-4602-bb74-277ed303aba7",
   "metadata": {},
   "outputs": [
    {
     "name": "stdout",
     "output_type": "stream",
     "text": [
      "A   -0.119643\n",
      "B   -0.491507\n",
      "C   -0.234929\n",
      "D   -0.057726\n",
      "dtype: float64\n"
     ]
    }
   ],
   "source": [
    "print(df1.mean()) # you can basically can compute the mean directly using .mean()"
   ]
  },
  {
   "cell_type": "code",
   "execution_count": 113,
   "id": "f3a30cb2-80d8-4bb1-b8c4-5537616016ff",
   "metadata": {},
   "outputs": [
    {
     "name": "stdout",
     "output_type": "stream",
     "text": [
      "2024-08-29    0.437013\n",
      "2024-08-30   -0.159589\n",
      "2024-08-31    0.406472\n",
      "2024-09-01   -0.858224\n",
      "2024-09-02   -1.014910\n",
      "2024-09-03   -0.107416\n",
      "2024-09-04   -0.659443\n",
      "2024-09-05   -0.486653\n",
      "2024-09-06   -0.587652\n",
      "2024-09-07    0.770890\n",
      "Freq: D, dtype: float64\n"
     ]
    }
   ],
   "source": [
    "print(df1.mean(1))\n",
    "# parameter of mean (read the docs)\n",
    "# but here .mean(0) is the default which get the mean by column\n",
    "# while .mean(1) calculate the mean per row"
   ]
  },
  {
   "cell_type": "markdown",
   "id": "eefd7cfe-0c02-4fe2-aa57-839d64b24a3b",
   "metadata": {},
   "source": [
    "### Extracting from DataFrames"
   ]
  },
  {
   "cell_type": "code",
   "execution_count": 119,
   "id": "416b1d21-496b-4ea6-95c5-da9b16d9637a",
   "metadata": {},
   "outputs": [
    {
     "data": {
      "text/html": [
       "<div>\n",
       "<style scoped>\n",
       "    .dataframe tbody tr th:only-of-type {\n",
       "        vertical-align: middle;\n",
       "    }\n",
       "\n",
       "    .dataframe tbody tr th {\n",
       "        vertical-align: top;\n",
       "    }\n",
       "\n",
       "    .dataframe thead th {\n",
       "        text-align: right;\n",
       "    }\n",
       "</style>\n",
       "<table border=\"1\" class=\"dataframe\">\n",
       "  <thead>\n",
       "    <tr style=\"text-align: right;\">\n",
       "      <th></th>\n",
       "      <th>A</th>\n",
       "      <th>B</th>\n",
       "      <th>C</th>\n",
       "      <th>D</th>\n",
       "    </tr>\n",
       "  </thead>\n",
       "  <tbody>\n",
       "    <tr>\n",
       "      <th>2024-08-29</th>\n",
       "      <td>0.158294</td>\n",
       "      <td>-0.152097</td>\n",
       "      <td>0.962826</td>\n",
       "      <td>0.779027</td>\n",
       "    </tr>\n",
       "    <tr>\n",
       "      <th>2024-08-30</th>\n",
       "      <td>0.571415</td>\n",
       "      <td>-0.791438</td>\n",
       "      <td>0.166042</td>\n",
       "      <td>-0.584373</td>\n",
       "    </tr>\n",
       "    <tr>\n",
       "      <th>2024-08-31</th>\n",
       "      <td>0.157738</td>\n",
       "      <td>0.248846</td>\n",
       "      <td>-0.337934</td>\n",
       "      <td>1.557236</td>\n",
       "    </tr>\n",
       "    <tr>\n",
       "      <th>2024-09-01</th>\n",
       "      <td>-1.968210</td>\n",
       "      <td>-0.833159</td>\n",
       "      <td>-0.642852</td>\n",
       "      <td>0.011324</td>\n",
       "    </tr>\n",
       "    <tr>\n",
       "      <th>2024-09-02</th>\n",
       "      <td>0.658876</td>\n",
       "      <td>-1.296092</td>\n",
       "      <td>-2.520846</td>\n",
       "      <td>-0.901576</td>\n",
       "    </tr>\n",
       "  </tbody>\n",
       "</table>\n",
       "</div>"
      ],
      "text/plain": [
       "                   A         B         C         D\n",
       "2024-08-29  0.158294 -0.152097  0.962826  0.779027\n",
       "2024-08-30  0.571415 -0.791438  0.166042 -0.584373\n",
       "2024-08-31  0.157738  0.248846 -0.337934  1.557236\n",
       "2024-09-01 -1.968210 -0.833159 -0.642852  0.011324\n",
       "2024-09-02  0.658876 -1.296092 -2.520846 -0.901576"
      ]
     },
     "execution_count": 119,
     "metadata": {},
     "output_type": "execute_result"
    }
   ],
   "source": [
    "df1.head() # gets the first five rows of the dataframe by default\n",
    "# you can pass the number of you want to display in the parameter\n",
    "# ex. df1.head(3) gives you first 3 rows of data "
   ]
  },
  {
   "cell_type": "code",
   "execution_count": 120,
   "id": "9886a9d6-7f9b-4315-8fb5-df4dbfcb11b9",
   "metadata": {},
   "outputs": [
    {
     "data": {
      "text/html": [
       "<div>\n",
       "<style scoped>\n",
       "    .dataframe tbody tr th:only-of-type {\n",
       "        vertical-align: middle;\n",
       "    }\n",
       "\n",
       "    .dataframe tbody tr th {\n",
       "        vertical-align: top;\n",
       "    }\n",
       "\n",
       "    .dataframe thead th {\n",
       "        text-align: right;\n",
       "    }\n",
       "</style>\n",
       "<table border=\"1\" class=\"dataframe\">\n",
       "  <thead>\n",
       "    <tr style=\"text-align: right;\">\n",
       "      <th></th>\n",
       "      <th>A</th>\n",
       "      <th>B</th>\n",
       "      <th>C</th>\n",
       "      <th>D</th>\n",
       "    </tr>\n",
       "  </thead>\n",
       "  <tbody>\n",
       "    <tr>\n",
       "      <th>2024-08-29</th>\n",
       "      <td>0.158294</td>\n",
       "      <td>-0.152097</td>\n",
       "      <td>0.962826</td>\n",
       "      <td>0.779027</td>\n",
       "    </tr>\n",
       "    <tr>\n",
       "      <th>2024-08-30</th>\n",
       "      <td>0.571415</td>\n",
       "      <td>-0.791438</td>\n",
       "      <td>0.166042</td>\n",
       "      <td>-0.584373</td>\n",
       "    </tr>\n",
       "    <tr>\n",
       "      <th>2024-08-31</th>\n",
       "      <td>0.157738</td>\n",
       "      <td>0.248846</td>\n",
       "      <td>-0.337934</td>\n",
       "      <td>1.557236</td>\n",
       "    </tr>\n",
       "  </tbody>\n",
       "</table>\n",
       "</div>"
      ],
      "text/plain": [
       "                   A         B         C         D\n",
       "2024-08-29  0.158294 -0.152097  0.962826  0.779027\n",
       "2024-08-30  0.571415 -0.791438  0.166042 -0.584373\n",
       "2024-08-31  0.157738  0.248846 -0.337934  1.557236"
      ]
     },
     "execution_count": 120,
     "metadata": {},
     "output_type": "execute_result"
    }
   ],
   "source": [
    "df1.head(3) # YEAH"
   ]
  },
  {
   "cell_type": "code",
   "execution_count": 121,
   "id": "e18df9da-cf45-4620-958e-2aa86c1f0f97",
   "metadata": {},
   "outputs": [
    {
     "data": {
      "text/html": [
       "<div>\n",
       "<style scoped>\n",
       "    .dataframe tbody tr th:only-of-type {\n",
       "        vertical-align: middle;\n",
       "    }\n",
       "\n",
       "    .dataframe tbody tr th {\n",
       "        vertical-align: top;\n",
       "    }\n",
       "\n",
       "    .dataframe thead th {\n",
       "        text-align: right;\n",
       "    }\n",
       "</style>\n",
       "<table border=\"1\" class=\"dataframe\">\n",
       "  <thead>\n",
       "    <tr style=\"text-align: right;\">\n",
       "      <th></th>\n",
       "      <th>A</th>\n",
       "      <th>B</th>\n",
       "      <th>C</th>\n",
       "      <th>D</th>\n",
       "    </tr>\n",
       "  </thead>\n",
       "  <tbody>\n",
       "    <tr>\n",
       "      <th>2024-09-03</th>\n",
       "      <td>0.714369</td>\n",
       "      <td>-0.144770</td>\n",
       "      <td>0.431147</td>\n",
       "      <td>-1.430411</td>\n",
       "    </tr>\n",
       "    <tr>\n",
       "      <th>2024-09-04</th>\n",
       "      <td>-0.354987</td>\n",
       "      <td>-1.719900</td>\n",
       "      <td>-1.002914</td>\n",
       "      <td>0.440027</td>\n",
       "    </tr>\n",
       "    <tr>\n",
       "      <th>2024-09-05</th>\n",
       "      <td>-2.192925</td>\n",
       "      <td>-1.263645</td>\n",
       "      <td>1.371032</td>\n",
       "      <td>0.138926</td>\n",
       "    </tr>\n",
       "    <tr>\n",
       "      <th>2024-09-06</th>\n",
       "      <td>-0.206288</td>\n",
       "      <td>-0.408219</td>\n",
       "      <td>-1.651362</td>\n",
       "      <td>-0.084739</td>\n",
       "    </tr>\n",
       "    <tr>\n",
       "      <th>2024-09-07</th>\n",
       "      <td>1.265283</td>\n",
       "      <td>1.445400</td>\n",
       "      <td>0.875576</td>\n",
       "      <td>-0.502698</td>\n",
       "    </tr>\n",
       "  </tbody>\n",
       "</table>\n",
       "</div>"
      ],
      "text/plain": [
       "                   A         B         C         D\n",
       "2024-09-03  0.714369 -0.144770  0.431147 -1.430411\n",
       "2024-09-04 -0.354987 -1.719900 -1.002914  0.440027\n",
       "2024-09-05 -2.192925 -1.263645  1.371032  0.138926\n",
       "2024-09-06 -0.206288 -0.408219 -1.651362 -0.084739\n",
       "2024-09-07  1.265283  1.445400  0.875576 -0.502698"
      ]
     },
     "execution_count": 121,
     "metadata": {},
     "output_type": "execute_result"
    }
   ],
   "source": [
    "df1.tail() # This shows the last five rows of the dataframe by default\n",
    "# also has same concept to the head"
   ]
  },
  {
   "cell_type": "markdown",
   "id": "94625f00-bae7-4379-b371-9db01c3281c2",
   "metadata": {},
   "source": [
    "### Selecting a Specific Column in a DataFrame"
   ]
  },
  {
   "cell_type": "code",
   "execution_count": 123,
   "id": "37e4b8ea-e699-40de-b6a6-9bebcc0eec9d",
   "metadata": {},
   "outputs": [
    {
     "name": "stdout",
     "output_type": "stream",
     "text": [
      "2024-08-29    0.158294\n",
      "2024-08-30    0.571415\n",
      "2024-08-31    0.157738\n",
      "2024-09-01   -1.968210\n",
      "2024-09-02    0.658876\n",
      "2024-09-03    0.714369\n",
      "2024-09-04   -0.354987\n",
      "2024-09-05   -2.192925\n",
      "2024-09-06   -0.206288\n",
      "2024-09-07    1.265283\n",
      "Freq: D, Name: A, dtype: float64\n"
     ]
    }
   ],
   "source": [
    "print(df1.A) # you can directly access a specific column as this\n",
    "# that is why you should have a good naming conventions to your column names\n",
    "# in this method, column names with spaces can't be accessible"
   ]
  },
  {
   "cell_type": "code",
   "execution_count": 125,
   "id": "4709537e-3e96-42d4-8200-1fb257c41ead",
   "metadata": {},
   "outputs": [
    {
     "name": "stdout",
     "output_type": "stream",
     "text": [
      "2024-08-29    0.158294\n",
      "2024-08-30    0.571415\n",
      "2024-08-31    0.157738\n",
      "2024-09-01   -1.968210\n",
      "2024-09-02    0.658876\n",
      "2024-09-03    0.714369\n",
      "2024-09-04   -0.354987\n",
      "2024-09-05   -2.192925\n",
      "2024-09-06   -0.206288\n",
      "2024-09-07    1.265283\n",
      "Freq: D, Name: A, dtype: float64\n"
     ]
    }
   ],
   "source": [
    "# while you can also so this\n",
    "print(df1[\"A\"])\n",
    "# which work even your column name has spaces, it works since you pass a string inside"
   ]
  },
  {
   "cell_type": "code",
   "execution_count": 131,
   "id": "60b7c0f9-8853-4cac-9e90-f5e47644cded",
   "metadata": {},
   "outputs": [
    {
     "name": "stdout",
     "output_type": "stream",
     "text": [
      "                   A         C         D\n",
      "2024-08-29  0.158294  0.962826  0.779027\n",
      "2024-08-30  0.571415  0.166042 -0.584373\n",
      "2024-08-31  0.157738 -0.337934  1.557236\n",
      "2024-09-01 -1.968210 -0.642852  0.011324\n",
      "2024-09-02  0.658876 -2.520846 -0.901576\n",
      "2024-09-03  0.714369  0.431147 -1.430411\n",
      "2024-09-04 -0.354987 -1.002914  0.440027\n",
      "2024-09-05 -2.192925  1.371032  0.138926\n",
      "2024-09-06 -0.206288 -1.651362 -0.084739\n",
      "2024-09-07  1.265283  0.875576 -0.502698\n"
     ]
    }
   ],
   "source": [
    "# Multiple Specific columns\n",
    "# you can achieve it by passing a list of thos columns you want to select\n",
    "print(df1[['A','C','D']]) # like this, which is a dataframe"
   ]
  },
  {
   "cell_type": "markdown",
   "id": "e8de6743-03c8-4c3d-8641-8783f202cc9c",
   "metadata": {},
   "source": [
    "### Slicing Based on Row Number"
   ]
  },
  {
   "cell_type": "code",
   "execution_count": 153,
   "id": "16f58d05-d7ef-43e7-a5d8-0290d63e2e6c",
   "metadata": {},
   "outputs": [
    {
     "name": "stdout",
     "output_type": "stream",
     "text": [
      "                   A         B         C         D\n",
      "2024-08-29  0.158294 -0.152097  0.962826  0.779027\n",
      "2024-08-30  0.571415 -0.791438  0.166042 -0.584373\n",
      "2024-08-31  0.157738  0.248846 -0.337934  1.557236\n",
      "2024-09-01 -1.968210 -0.833159 -0.642852  0.011324\n"
     ]
    }
   ],
   "source": [
    "print(df1[:4]) # row splicing works like array\n",
    "# since rows are originaly an index\n",
    "# but"
   ]
  },
  {
   "cell_type": "code",
   "execution_count": 154,
   "id": "265fa22a-a06c-420a-b4fa-f11964d9eea6",
   "metadata": {},
   "outputs": [
    {
     "name": "stdout",
     "output_type": "stream",
     "text": [
      "                   A         B         C         D\n",
      "2024-08-31  0.157738  0.248846 -0.337934  1.557236\n",
      "2024-09-02  0.658876 -1.296092 -2.520846 -0.901576\n"
     ]
    }
   ],
   "source": [
    "print(df1.iloc[[2,4]]) # but for multiple specific rows, use iloc\n",
    "# doing df1[[0,4]] is criminally mortal sin (gives an error everybody)\n",
    "# just pass a list of your specific rows"
   ]
  },
  {
   "cell_type": "code",
   "execution_count": 155,
   "id": "bb3182ac-3877-4d62-8874-0ae00163a68f",
   "metadata": {},
   "outputs": [
    {
     "name": "stdout",
     "output_type": "stream",
     "text": [
      "A    0.571415\n",
      "B   -0.791438\n",
      "C    0.166042\n",
      "D   -0.584373\n",
      "Name: 2024-08-30 00:00:00, dtype: float64\n"
     ]
    }
   ],
   "source": [
    "# also for single specifics, use iloc\n",
    "print(df1.iloc[1])"
   ]
  },
  {
   "cell_type": "markdown",
   "id": "e8cb12b2-c98c-476e-9192-e68e9ffdf9e8",
   "metadata": {},
   "source": [
    "### Slicing Based on Row and Column Numbers"
   ]
  },
  {
   "cell_type": "code",
   "execution_count": 167,
   "id": "e242a7f6-6759-405d-bffe-b8b355cef04d",
   "metadata": {},
   "outputs": [
    {
     "name": "stdout",
     "output_type": "stream",
     "text": [
      "                   B         C\n",
      "2024-08-30 -0.791438  0.166042\n",
      "2024-08-31  0.248846 -0.337934\n"
     ]
    }
   ],
   "source": [
    "# but sometimes you don't want to be specific in just rows, or just columns so\n",
    "print(df1.iloc[[1,2],[1,2]]) # You use iloc\n",
    "# .iloc[[rows],[columns]]"
   ]
  },
  {
   "cell_type": "code",
   "execution_count": 158,
   "id": "a3846e9a-6975-45bc-a748-907f4dd1e19a",
   "metadata": {},
   "outputs": [
    {
     "name": "stdout",
     "output_type": "stream",
     "text": [
      "                   D\n",
      "2024-08-30 -0.584373\n"
     ]
    }
   ],
   "source": [
    "print(df1.iloc[[1],[-1]]) # same as this"
   ]
  },
  {
   "cell_type": "markdown",
   "id": "d1c9acdd-4c03-49f8-8fde-7d52c3b43572",
   "metadata": {},
   "source": [
    "### Slicing Based on Labels"
   ]
  },
  {
   "cell_type": "code",
   "execution_count": 162,
   "id": "c49aca3d-0364-44bd-9023-3e7dce60c49a",
   "metadata": {},
   "outputs": [
    {
     "name": "stdout",
     "output_type": "stream",
     "text": [
      "                   A         B         C         D\n",
      "2024-08-30  0.571415 -0.791438  0.166042 -0.584373\n",
      "2024-08-31  0.157738  0.248846 -0.337934  1.557236\n",
      "2024-09-01 -1.968210 -0.833159 -0.642852  0.011324\n",
      "2024-09-02  0.658876 -1.296092 -2.520846 -0.901576\n",
      "2024-09-03  0.714369 -0.144770  0.431147 -1.430411\n",
      "2024-09-04 -0.354987 -1.719900 -1.002914  0.440027\n"
     ]
    }
   ],
   "source": [
    "# if you want to base it to labels in your data frame (like column names or your custom indexing)\n",
    "# use loc!\n",
    "print(df1.loc[\"20240830\":\"20240904\"]) # row indexing is a datetimindex type"
   ]
  },
  {
   "cell_type": "code",
   "execution_count": 170,
   "id": "79d4010e-334b-41ae-81ce-b431bdfcb73d",
   "metadata": {},
   "outputs": [
    {
     "name": "stdout",
     "output_type": "stream",
     "text": [
      "                   A         B         C\n",
      "2024-08-30  0.571415 -0.791438  0.166042\n",
      "2024-09-04 -0.354987 -1.719900 -1.002914\n"
     ]
    }
   ],
   "source": [
    "print(df1.loc[[\"20240830\":\"20240904\"],\"A\":\"C\"]) # but you can use \"start:end\" concept\n",
    "# you can't do that in iloc\n",
    "# arrays have \"start:stop\""
   ]
  },
  {
   "cell_type": "code",
   "execution_count": 171,
   "id": "95ffb7aa-d077-4f4c-9cc1-b3a0f6cf3aa0",
   "metadata": {},
   "outputs": [
    {
     "name": "stdout",
     "output_type": "stream",
     "text": [
      "                   A         C\n",
      "2024-08-30  0.571415  0.166042\n",
      "2024-09-04 -0.354987 -1.002914\n"
     ]
    }
   ],
   "source": [
    "print(df1.loc[[\"20240830\",\"20240904\"],[\"A\",\"C\"]]) # and for super specifics, pass a list"
   ]
  },
  {
   "cell_type": "code",
   "execution_count": 174,
   "id": "ad8f450e-cfd2-4f7c-b5a0-773f13edc381",
   "metadata": {},
   "outputs": [
    {
     "name": "stdout",
     "output_type": "stream",
     "text": [
      "A    0.571415\n",
      "D   -0.584373\n",
      "Name: 2024-08-30 00:00:00, dtype: float64\n"
     ]
    }
   ],
   "source": [
    "print(df1.loc[\"20240830\",[\"A\",\"D\"]]) # go crazy and experiment\n",
    "# just remember .loc[[row],[col]]"
   ]
  },
  {
   "cell_type": "markdown",
   "id": "352d4308-3146-4007-a3cd-24b42802f2fc",
   "metadata": {},
   "source": [
    "### Selecting a Single Cell in a DataFrame"
   ]
  },
  {
   "cell_type": "code",
   "execution_count": null,
   "id": "b667d21b-a0c9-4659-96a1-681f9000e27a",
   "metadata": {},
   "outputs": [],
   "source": []
  }
 ],
 "metadata": {
  "kernelspec": {
   "display_name": "py-environment",
   "language": "python",
   "name": "py-environment"
  },
  "language_info": {
   "codemirror_mode": {
    "name": "ipython",
    "version": 3
   },
   "file_extension": ".py",
   "mimetype": "text/x-python",
   "name": "python",
   "nbconvert_exporter": "python",
   "pygments_lexer": "ipython3",
   "version": "3.12.5"
  }
 },
 "nbformat": 4,
 "nbformat_minor": 5
}
